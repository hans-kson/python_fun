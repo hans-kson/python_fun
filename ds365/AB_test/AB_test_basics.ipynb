{
 "cells": [
  {
   "cell_type": "markdown",
   "metadata": {},
   "source": [
    "# Intro\n",
    "\n",
    "this is a notebook I wrote as notes when reading\n",
    "https://towardsdatascience.com/ab-testing-with-python-e5964dd66143\n",
    "The idea was to follow the article and code along at the same time. \n",
    "\n",
    "Dataset comes from kaggle (4 MB)\n",
    "https://www.kaggle.com/datasets/zhangluyuan/ab-testing?select=ab_data.csv\n",
    "\n",
    "\n",
    "#### TLDR of the case\n",
    "current avg conversion rate is 13% (no info on variance which I think should be a factor when deciding what is \"success\")\n",
    "but still the success is defined as increasing the avg conversion rate to 15%. \n",
    "\n",
    "author decides to make a two-tailed test with the motivation that we don't know if the design will perform better or worse. My take is that the since we're interested in knowing if we maybe improve conversion rate to 15% we should do a one tailed z-test. anyways, I'll follow the article first and then make my own take in the end.     \n",
    "\n",
    "choosing alpha=0.05\n",
    "\n",
    "there's a control group and a treatment group\n",
    "\n",
    "conversion is captured as a binary variable 0-did not buy during session, 1-did buy during session\n",
    "\n"
   ]
  },
  {
   "cell_type": "markdown",
   "metadata": {},
   "source": [
    "# imports"
   ]
  },
  {
   "cell_type": "code",
   "execution_count": 1,
   "metadata": {},
   "outputs": [
    {
     "name": "stderr",
     "output_type": "stream",
     "text": [
      "<frozen importlib._bootstrap>:219: RuntimeWarning: scipy._lib.messagestream.MessageStream size changed, may indicate binary incompatibility. Expected 56 from C header, got 64 from PyObject\n"
     ]
    }
   ],
   "source": [
    "import numpy as np\n",
    "import pandas as pd\n",
    "import scipy.stats as stats\n",
    "import statsmodels.stats.api as sms\n",
    "import matplotlib as mpl\n",
    "import matplotlib.pyplot as plt\n",
    "import seaborn as sns\n",
    "from math import ceil\n",
    "\n",
    "from statsmodels.stats.proportion import proportions_ztest, proportion_confint\n",
    "\n",
    "from datetime import datetime\n",
    "import altair as alt\n",
    "from scipy.stats import ttest_ind"
   ]
  },
  {
   "cell_type": "markdown",
   "metadata": {},
   "source": [
    "### choosing sample size\n",
    "\n",
    "#### power of test (1-beta)\n",
    "probability of finding a statistical deifference between the groups in the test when there really is a difference. \n",
    "here beta was set to 0.2 --> power=0.8\n",
    "\n",
    "#### alpha\n",
    "was chosen as 0.05\n",
    "\n",
    "#### effect size\n",
    "expected difference between the conversion rates. base_avg = 0.13. expected_avg=0.15"
   ]
  },
  {
   "cell_type": "code",
   "execution_count": 2,
   "metadata": {},
   "outputs": [],
   "source": [
    "base_avg = 0.13 \n",
    "expected_avg= 0.15\n",
    "alpha=0.05\n",
    "beta=0.2"
   ]
  },
  {
   "cell_type": "code",
   "execution_count": 3,
   "metadata": {},
   "outputs": [
    {
     "name": "stdout",
     "output_type": "stream",
     "text": [
      "The effect size is -0.0577\n"
     ]
    }
   ],
   "source": [
    "effect_size = sms.proportion_effectsize(base_avg, expected_avg)\n",
    "print('The effect size is %.4f'  % effect_size)\n"
   ]
  },
  {
   "cell_type": "code",
   "execution_count": 4,
   "metadata": {},
   "outputs": [
    {
     "name": "stdout",
     "output_type": "stream",
     "text": [
      "The sample size for each group is 4720\n"
     ]
    }
   ],
   "source": [
    "required_n = sms.NormalIndPower().solve_power(\n",
    "    effect_size, \n",
    "    power=(1-beta), \n",
    "    alpha=alpha, \n",
    "    ratio=1\n",
    "    ) \n",
    "\n",
    "required_n = ceil(required_n)\n",
    "\n",
    "print('The sample size for each group is %d' % required_n)"
   ]
  },
  {
   "cell_type": "markdown",
   "metadata": {},
   "source": [
    "# Get data"
   ]
  },
  {
   "cell_type": "code",
   "execution_count": 5,
   "metadata": {},
   "outputs": [],
   "source": [
    "df = pd.read_csv('data/ab_data.csv')"
   ]
  },
  {
   "cell_type": "code",
   "execution_count": 6,
   "metadata": {},
   "outputs": [
    {
     "data": {
      "text/html": [
       "<div>\n",
       "<style scoped>\n",
       "    .dataframe tbody tr th:only-of-type {\n",
       "        vertical-align: middle;\n",
       "    }\n",
       "\n",
       "    .dataframe tbody tr th {\n",
       "        vertical-align: top;\n",
       "    }\n",
       "\n",
       "    .dataframe thead th {\n",
       "        text-align: right;\n",
       "    }\n",
       "</style>\n",
       "<table border=\"1\" class=\"dataframe\">\n",
       "  <thead>\n",
       "    <tr style=\"text-align: right;\">\n",
       "      <th></th>\n",
       "      <th>user_id</th>\n",
       "      <th>timestamp</th>\n",
       "      <th>group</th>\n",
       "      <th>landing_page</th>\n",
       "      <th>converted</th>\n",
       "    </tr>\n",
       "  </thead>\n",
       "  <tbody>\n",
       "    <tr>\n",
       "      <th>0</th>\n",
       "      <td>851104</td>\n",
       "      <td>2017-01-21 22:11:48.556739</td>\n",
       "      <td>control</td>\n",
       "      <td>old_page</td>\n",
       "      <td>0</td>\n",
       "    </tr>\n",
       "    <tr>\n",
       "      <th>1</th>\n",
       "      <td>804228</td>\n",
       "      <td>2017-01-12 08:01:45.159739</td>\n",
       "      <td>control</td>\n",
       "      <td>old_page</td>\n",
       "      <td>0</td>\n",
       "    </tr>\n",
       "    <tr>\n",
       "      <th>2</th>\n",
       "      <td>661590</td>\n",
       "      <td>2017-01-11 16:55:06.154213</td>\n",
       "      <td>treatment</td>\n",
       "      <td>new_page</td>\n",
       "      <td>0</td>\n",
       "    </tr>\n",
       "    <tr>\n",
       "      <th>3</th>\n",
       "      <td>853541</td>\n",
       "      <td>2017-01-08 18:28:03.143765</td>\n",
       "      <td>treatment</td>\n",
       "      <td>new_page</td>\n",
       "      <td>0</td>\n",
       "    </tr>\n",
       "    <tr>\n",
       "      <th>4</th>\n",
       "      <td>864975</td>\n",
       "      <td>2017-01-21 01:52:26.210827</td>\n",
       "      <td>control</td>\n",
       "      <td>old_page</td>\n",
       "      <td>1</td>\n",
       "    </tr>\n",
       "  </tbody>\n",
       "</table>\n",
       "</div>"
      ],
      "text/plain": [
       "   user_id                   timestamp      group landing_page  converted\n",
       "0   851104  2017-01-21 22:11:48.556739    control     old_page          0\n",
       "1   804228  2017-01-12 08:01:45.159739    control     old_page          0\n",
       "2   661590  2017-01-11 16:55:06.154213  treatment     new_page          0\n",
       "3   853541  2017-01-08 18:28:03.143765  treatment     new_page          0\n",
       "4   864975  2017-01-21 01:52:26.210827    control     old_page          1"
      ]
     },
     "execution_count": 6,
     "metadata": {},
     "output_type": "execute_result"
    }
   ],
   "source": [
    "df.head()"
   ]
  },
  {
   "cell_type": "code",
   "execution_count": 7,
   "metadata": {},
   "outputs": [
    {
     "name": "stdout",
     "output_type": "stream",
     "text": [
      "<class 'pandas.core.frame.DataFrame'>\n",
      "RangeIndex: 294478 entries, 0 to 294477\n",
      "Data columns (total 5 columns):\n",
      " #   Column        Non-Null Count   Dtype \n",
      "---  ------        --------------   ----- \n",
      " 0   user_id       294478 non-null  int64 \n",
      " 1   timestamp     294478 non-null  object\n",
      " 2   group         294478 non-null  object\n",
      " 3   landing_page  294478 non-null  object\n",
      " 4   converted     294478 non-null  int64 \n",
      "dtypes: int64(2), object(3)\n",
      "memory usage: 11.2+ MB\n"
     ]
    }
   ],
   "source": [
    "df.info()"
   ]
  },
  {
   "cell_type": "markdown",
   "metadata": {},
   "source": [
    "### notes\n",
    "the author decided to check for users that are sampled multiple times in the data set and removes those"
   ]
  },
  {
   "cell_type": "code",
   "execution_count": 8,
   "metadata": {},
   "outputs": [
    {
     "name": "stdout",
     "output_type": "stream",
     "text": [
      "There are 3894 users that appear multiple times in the dataset\n"
     ]
    }
   ],
   "source": [
    "session_counts = df['user_id'].value_counts(ascending=False)\n",
    "multi_users = session_counts[session_counts > 1].count()\n",
    "\n",
    "print('There are %d users that appear multiple times in the dataset' % multi_users)"
   ]
  },
  {
   "cell_type": "code",
   "execution_count": 9,
   "metadata": {},
   "outputs": [
    {
     "name": "stdout",
     "output_type": "stream",
     "text": [
      "The updated dataset now has 286690 entries\n"
     ]
    }
   ],
   "source": [
    "users_to_drop = session_counts[session_counts > 1].index\n",
    "\n",
    "df = df[~df['user_id'].isin(users_to_drop)]\n",
    "print(f'The updated dataset now has {df.shape[0]} entries')"
   ]
  },
  {
   "cell_type": "markdown",
   "metadata": {},
   "source": [
    "# make the sampling\n",
    "\n",
    "as in the article"
   ]
  },
  {
   "cell_type": "code",
   "execution_count": 10,
   "metadata": {},
   "outputs": [
    {
     "data": {
      "text/html": [
       "<div>\n",
       "<style scoped>\n",
       "    .dataframe tbody tr th:only-of-type {\n",
       "        vertical-align: middle;\n",
       "    }\n",
       "\n",
       "    .dataframe tbody tr th {\n",
       "        vertical-align: top;\n",
       "    }\n",
       "\n",
       "    .dataframe thead th {\n",
       "        text-align: right;\n",
       "    }\n",
       "</style>\n",
       "<table border=\"1\" class=\"dataframe\">\n",
       "  <thead>\n",
       "    <tr style=\"text-align: right;\">\n",
       "      <th></th>\n",
       "      <th>user_id</th>\n",
       "      <th>timestamp</th>\n",
       "      <th>group</th>\n",
       "      <th>landing_page</th>\n",
       "      <th>converted</th>\n",
       "    </tr>\n",
       "  </thead>\n",
       "  <tbody>\n",
       "    <tr>\n",
       "      <th>0</th>\n",
       "      <td>763854</td>\n",
       "      <td>2017-01-21 03:43:17.188315</td>\n",
       "      <td>control</td>\n",
       "      <td>old_page</td>\n",
       "      <td>0</td>\n",
       "    </tr>\n",
       "    <tr>\n",
       "      <th>1</th>\n",
       "      <td>690555</td>\n",
       "      <td>2017-01-18 06:38:13.079449</td>\n",
       "      <td>control</td>\n",
       "      <td>old_page</td>\n",
       "      <td>0</td>\n",
       "    </tr>\n",
       "    <tr>\n",
       "      <th>2</th>\n",
       "      <td>861520</td>\n",
       "      <td>2017-01-06 21:13:40.044766</td>\n",
       "      <td>control</td>\n",
       "      <td>old_page</td>\n",
       "      <td>0</td>\n",
       "    </tr>\n",
       "    <tr>\n",
       "      <th>3</th>\n",
       "      <td>630778</td>\n",
       "      <td>2017-01-05 16:42:36.995204</td>\n",
       "      <td>control</td>\n",
       "      <td>old_page</td>\n",
       "      <td>0</td>\n",
       "    </tr>\n",
       "    <tr>\n",
       "      <th>4</th>\n",
       "      <td>656634</td>\n",
       "      <td>2017-01-04 15:31:21.676130</td>\n",
       "      <td>control</td>\n",
       "      <td>old_page</td>\n",
       "      <td>0</td>\n",
       "    </tr>\n",
       "    <tr>\n",
       "      <th>...</th>\n",
       "      <td>...</td>\n",
       "      <td>...</td>\n",
       "      <td>...</td>\n",
       "      <td>...</td>\n",
       "      <td>...</td>\n",
       "    </tr>\n",
       "    <tr>\n",
       "      <th>9435</th>\n",
       "      <td>908512</td>\n",
       "      <td>2017-01-14 22:02:29.922674</td>\n",
       "      <td>treatment</td>\n",
       "      <td>new_page</td>\n",
       "      <td>0</td>\n",
       "    </tr>\n",
       "    <tr>\n",
       "      <th>9436</th>\n",
       "      <td>873211</td>\n",
       "      <td>2017-01-05 00:57:16.167151</td>\n",
       "      <td>treatment</td>\n",
       "      <td>new_page</td>\n",
       "      <td>0</td>\n",
       "    </tr>\n",
       "    <tr>\n",
       "      <th>9437</th>\n",
       "      <td>631276</td>\n",
       "      <td>2017-01-20 18:56:58.167809</td>\n",
       "      <td>treatment</td>\n",
       "      <td>new_page</td>\n",
       "      <td>0</td>\n",
       "    </tr>\n",
       "    <tr>\n",
       "      <th>9438</th>\n",
       "      <td>662301</td>\n",
       "      <td>2017-01-03 08:10:57.768806</td>\n",
       "      <td>treatment</td>\n",
       "      <td>new_page</td>\n",
       "      <td>0</td>\n",
       "    </tr>\n",
       "    <tr>\n",
       "      <th>9439</th>\n",
       "      <td>944623</td>\n",
       "      <td>2017-01-19 10:56:01.648653</td>\n",
       "      <td>treatment</td>\n",
       "      <td>new_page</td>\n",
       "      <td>1</td>\n",
       "    </tr>\n",
       "  </tbody>\n",
       "</table>\n",
       "<p>9440 rows × 5 columns</p>\n",
       "</div>"
      ],
      "text/plain": [
       "      user_id                   timestamp      group landing_page  converted\n",
       "0      763854  2017-01-21 03:43:17.188315    control     old_page          0\n",
       "1      690555  2017-01-18 06:38:13.079449    control     old_page          0\n",
       "2      861520  2017-01-06 21:13:40.044766    control     old_page          0\n",
       "3      630778  2017-01-05 16:42:36.995204    control     old_page          0\n",
       "4      656634  2017-01-04 15:31:21.676130    control     old_page          0\n",
       "...       ...                         ...        ...          ...        ...\n",
       "9435   908512  2017-01-14 22:02:29.922674  treatment     new_page          0\n",
       "9436   873211  2017-01-05 00:57:16.167151  treatment     new_page          0\n",
       "9437   631276  2017-01-20 18:56:58.167809  treatment     new_page          0\n",
       "9438   662301  2017-01-03 08:10:57.768806  treatment     new_page          0\n",
       "9439   944623  2017-01-19 10:56:01.648653  treatment     new_page          1\n",
       "\n",
       "[9440 rows x 5 columns]"
      ]
     },
     "execution_count": 10,
     "metadata": {},
     "output_type": "execute_result"
    }
   ],
   "source": [
    "control_sample = df[df['group'] == 'control'].sample(n=required_n, random_state=22)\n",
    "treatment_sample = df[df['group'] == 'treatment'].sample(n=required_n, random_state=22)\n",
    "\n",
    "ab_test = pd.concat([control_sample, treatment_sample], axis=0)\n",
    "ab_test.reset_index(drop=True, inplace=True)\n",
    "\n",
    "ab_test"
   ]
  },
  {
   "cell_type": "code",
   "execution_count": 11,
   "metadata": {},
   "outputs": [
    {
     "data": {
      "text/plain": [
       "control      4720\n",
       "treatment    4720\n",
       "Name: group, dtype: int64"
      ]
     },
     "execution_count": 11,
     "metadata": {},
     "output_type": "execute_result"
    }
   ],
   "source": [
    "ab_test.group.value_counts()"
   ]
  },
  {
   "cell_type": "code",
   "execution_count": 12,
   "metadata": {},
   "outputs": [
    {
     "data": {
      "text/html": [
       "<div>\n",
       "<style scoped>\n",
       "    .dataframe tbody tr th:only-of-type {\n",
       "        vertical-align: middle;\n",
       "    }\n",
       "\n",
       "    .dataframe tbody tr th {\n",
       "        vertical-align: top;\n",
       "    }\n",
       "\n",
       "    .dataframe thead th {\n",
       "        text-align: right;\n",
       "    }\n",
       "</style>\n",
       "<table border=\"1\" class=\"dataframe\">\n",
       "  <thead>\n",
       "    <tr style=\"text-align: right;\">\n",
       "      <th></th>\n",
       "      <th>count</th>\n",
       "      <th>mean</th>\n",
       "      <th>std</th>\n",
       "      <th>min</th>\n",
       "      <th>25%</th>\n",
       "      <th>50%</th>\n",
       "      <th>75%</th>\n",
       "      <th>max</th>\n",
       "    </tr>\n",
       "    <tr>\n",
       "      <th>group</th>\n",
       "      <th></th>\n",
       "      <th></th>\n",
       "      <th></th>\n",
       "      <th></th>\n",
       "      <th></th>\n",
       "      <th></th>\n",
       "      <th></th>\n",
       "      <th></th>\n",
       "    </tr>\n",
       "  </thead>\n",
       "  <tbody>\n",
       "    <tr>\n",
       "      <th>control</th>\n",
       "      <td>4720.0</td>\n",
       "      <td>0.123305</td>\n",
       "      <td>0.328822</td>\n",
       "      <td>0.0</td>\n",
       "      <td>0.0</td>\n",
       "      <td>0.0</td>\n",
       "      <td>0.0</td>\n",
       "      <td>1.0</td>\n",
       "    </tr>\n",
       "    <tr>\n",
       "      <th>treatment</th>\n",
       "      <td>4720.0</td>\n",
       "      <td>0.125636</td>\n",
       "      <td>0.331473</td>\n",
       "      <td>0.0</td>\n",
       "      <td>0.0</td>\n",
       "      <td>0.0</td>\n",
       "      <td>0.0</td>\n",
       "      <td>1.0</td>\n",
       "    </tr>\n",
       "  </tbody>\n",
       "</table>\n",
       "</div>"
      ],
      "text/plain": [
       "            count      mean       std  min  25%  50%  75%  max\n",
       "group                                                         \n",
       "control    4720.0  0.123305  0.328822  0.0  0.0  0.0  0.0  1.0\n",
       "treatment  4720.0  0.125636  0.331473  0.0  0.0  0.0  0.0  1.0"
      ]
     },
     "execution_count": 12,
     "metadata": {},
     "output_type": "execute_result"
    }
   ],
   "source": [
    "ab_test.groupby('group').converted.describe()"
   ]
  },
  {
   "cell_type": "code",
   "execution_count": 13,
   "metadata": {},
   "outputs": [
    {
     "data": {
      "image/png": "[encoded data removed]",
      "text/plain": [
       "<Figure size 576x432 with 1 Axes>"
      ]
     },
     "metadata": {
      "needs_background": "light"
     },
     "output_type": "display_data"
    }
   ],
   "source": [
    "plt.figure(figsize=(8,6))\n",
    "\n",
    "sns.barplot(x=ab_test['group'], y=ab_test['converted'], ci=False)\n",
    "\n",
    "plt.ylim(0, 0.17)\n",
    "plt.title('Conversion rate by group', pad=20)\n",
    "plt.xlabel('Group', labelpad=15)\n",
    "plt.ylabel('Converted (proportion)', labelpad=15);"
   ]
  },
  {
   "cell_type": "markdown",
   "metadata": {},
   "source": [
    "# Testing\n",
    "\n",
    "z-test"
   ]
  },
  {
   "cell_type": "code",
   "execution_count": 14,
   "metadata": {},
   "outputs": [],
   "source": [
    "control_results = ab_test[ab_test['group'] == 'control']['converted']\n",
    "treatment_results = ab_test[ab_test['group'] == 'treatment']['converted']"
   ]
  },
  {
   "cell_type": "code",
   "execution_count": 15,
   "metadata": {},
   "outputs": [],
   "source": [
    "n_con = control_results.count()\n",
    "n_treat = treatment_results.count()\n",
    "successes = [control_results.sum(), treatment_results.sum()]\n",
    "nobs = [n_con, n_treat]"
   ]
  },
  {
   "cell_type": "code",
   "execution_count": 16,
   "metadata": {},
   "outputs": [
    {
     "name": "stdout",
     "output_type": "stream",
     "text": [
      "z statistic: -0.34\n",
      "p-value: 0.732\n",
      "ci 95% for control group: [0.114, 0.133]\n",
      "ci 95% for treatment group: [0.116, 0.135]\n"
     ]
    }
   ],
   "source": [
    "z_stat, pval = proportions_ztest(successes, nobs=nobs)\n",
    "(lower_con, lower_treat), (upper_con, upper_treat) = proportion_confint(successes, nobs=nobs, alpha=0.05)\n",
    "\n",
    "print(f'z statistic: {z_stat:.2f}')\n",
    "print(f'p-value: {pval:.3f}')\n",
    "print(f'ci 95% for control group: [{lower_con:.3f}, {upper_con:.3f}]')\n",
    "print(f'ci 95% for treatment group: [{lower_treat:.3f}, {upper_treat:.3f}]')"
   ]
  },
  {
   "cell_type": "markdown",
   "metadata": {},
   "source": [
    "# my own lil take \n",
    "after having watched the AB testing lecture on 365 data science. "
   ]
  },
  {
   "cell_type": "code",
   "execution_count": 17,
   "metadata": {},
   "outputs": [],
   "source": [
    "# first just reaload the data \n",
    "df = pd.read_csv('data/ab_data.csv')"
   ]
  },
  {
   "cell_type": "code",
   "execution_count": 18,
   "metadata": {},
   "outputs": [
    {
     "data": {
      "text/html": [
       "<div>\n",
       "<style scoped>\n",
       "    .dataframe tbody tr th:only-of-type {\n",
       "        vertical-align: middle;\n",
       "    }\n",
       "\n",
       "    .dataframe tbody tr th {\n",
       "        vertical-align: top;\n",
       "    }\n",
       "\n",
       "    .dataframe thead th {\n",
       "        text-align: right;\n",
       "    }\n",
       "</style>\n",
       "<table border=\"1\" class=\"dataframe\">\n",
       "  <thead>\n",
       "    <tr style=\"text-align: right;\">\n",
       "      <th></th>\n",
       "      <th>user_id</th>\n",
       "      <th>timestamp</th>\n",
       "      <th>group</th>\n",
       "      <th>landing_page</th>\n",
       "      <th>converted</th>\n",
       "    </tr>\n",
       "  </thead>\n",
       "  <tbody>\n",
       "    <tr>\n",
       "      <th>0</th>\n",
       "      <td>851104</td>\n",
       "      <td>2017-01-21 22:11:48.556739</td>\n",
       "      <td>control</td>\n",
       "      <td>old_page</td>\n",
       "      <td>0</td>\n",
       "    </tr>\n",
       "    <tr>\n",
       "      <th>1</th>\n",
       "      <td>804228</td>\n",
       "      <td>2017-01-12 08:01:45.159739</td>\n",
       "      <td>control</td>\n",
       "      <td>old_page</td>\n",
       "      <td>0</td>\n",
       "    </tr>\n",
       "    <tr>\n",
       "      <th>2</th>\n",
       "      <td>661590</td>\n",
       "      <td>2017-01-11 16:55:06.154213</td>\n",
       "      <td>treatment</td>\n",
       "      <td>new_page</td>\n",
       "      <td>0</td>\n",
       "    </tr>\n",
       "    <tr>\n",
       "      <th>3</th>\n",
       "      <td>853541</td>\n",
       "      <td>2017-01-08 18:28:03.143765</td>\n",
       "      <td>treatment</td>\n",
       "      <td>new_page</td>\n",
       "      <td>0</td>\n",
       "    </tr>\n",
       "    <tr>\n",
       "      <th>4</th>\n",
       "      <td>864975</td>\n",
       "      <td>2017-01-21 01:52:26.210827</td>\n",
       "      <td>control</td>\n",
       "      <td>old_page</td>\n",
       "      <td>1</td>\n",
       "    </tr>\n",
       "  </tbody>\n",
       "</table>\n",
       "</div>"
      ],
      "text/plain": [
       "   user_id                   timestamp      group landing_page  converted\n",
       "0   851104  2017-01-21 22:11:48.556739    control     old_page          0\n",
       "1   804228  2017-01-12 08:01:45.159739    control     old_page          0\n",
       "2   661590  2017-01-11 16:55:06.154213  treatment     new_page          0\n",
       "3   853541  2017-01-08 18:28:03.143765  treatment     new_page          0\n",
       "4   864975  2017-01-21 01:52:26.210827    control     old_page          1"
      ]
     },
     "execution_count": 18,
     "metadata": {},
     "output_type": "execute_result"
    }
   ],
   "source": [
    "df.head()"
   ]
  },
  {
   "cell_type": "code",
   "execution_count": 19,
   "metadata": {},
   "outputs": [
    {
     "name": "stdout",
     "output_type": "stream",
     "text": [
      "<class 'pandas.core.frame.DataFrame'>\n",
      "RangeIndex: 294478 entries, 0 to 294477\n",
      "Data columns (total 5 columns):\n",
      " #   Column        Non-Null Count   Dtype \n",
      "---  ------        --------------   ----- \n",
      " 0   user_id       294478 non-null  int64 \n",
      " 1   timestamp     294478 non-null  object\n",
      " 2   group         294478 non-null  object\n",
      " 3   landing_page  294478 non-null  object\n",
      " 4   converted     294478 non-null  int64 \n",
      "dtypes: int64(2), object(3)\n",
      "memory usage: 11.2+ MB\n"
     ]
    }
   ],
   "source": [
    "df.info()"
   ]
  },
  {
   "cell_type": "code",
   "execution_count": 20,
   "metadata": {},
   "outputs": [],
   "source": [
    "#cast as datetime\n",
    "df.timestamp = pd.to_datetime(df.timestamp)\n",
    "# remove the time part and just keep date\n",
    "df_clean = df.copy()\n",
    "\n",
    "df_clean.timestamp = df_clean.timestamp.dt.date"
   ]
  },
  {
   "cell_type": "code",
   "execution_count": 21,
   "metadata": {},
   "outputs": [],
   "source": [
    "# #try this if you don't want to use pandas timestamp\n",
    "\n",
    "# df_clean.timestamp = df_clean.timestamp.map(lambda x: datetime.strptime(x, '%Y-%m-dT%H:%M:%SZ').strftime('%Y-%m-%d'))"
   ]
  },
  {
   "cell_type": "code",
   "execution_count": 22,
   "metadata": {},
   "outputs": [
    {
     "data": {
      "text/html": [
       "<div>\n",
       "<style scoped>\n",
       "    .dataframe tbody tr th:only-of-type {\n",
       "        vertical-align: middle;\n",
       "    }\n",
       "\n",
       "    .dataframe tbody tr th {\n",
       "        vertical-align: top;\n",
       "    }\n",
       "\n",
       "    .dataframe thead th {\n",
       "        text-align: right;\n",
       "    }\n",
       "</style>\n",
       "<table border=\"1\" class=\"dataframe\">\n",
       "  <thead>\n",
       "    <tr style=\"text-align: right;\">\n",
       "      <th></th>\n",
       "      <th>user_id</th>\n",
       "      <th>timestamp</th>\n",
       "      <th>group</th>\n",
       "      <th>landing_page</th>\n",
       "      <th>converted</th>\n",
       "    </tr>\n",
       "  </thead>\n",
       "  <tbody>\n",
       "    <tr>\n",
       "      <th>0</th>\n",
       "      <td>851104</td>\n",
       "      <td>2017-01-21</td>\n",
       "      <td>control</td>\n",
       "      <td>old_page</td>\n",
       "      <td>0</td>\n",
       "    </tr>\n",
       "    <tr>\n",
       "      <th>1</th>\n",
       "      <td>804228</td>\n",
       "      <td>2017-01-12</td>\n",
       "      <td>control</td>\n",
       "      <td>old_page</td>\n",
       "      <td>0</td>\n",
       "    </tr>\n",
       "    <tr>\n",
       "      <th>2</th>\n",
       "      <td>661590</td>\n",
       "      <td>2017-01-11</td>\n",
       "      <td>treatment</td>\n",
       "      <td>new_page</td>\n",
       "      <td>0</td>\n",
       "    </tr>\n",
       "    <tr>\n",
       "      <th>3</th>\n",
       "      <td>853541</td>\n",
       "      <td>2017-01-08</td>\n",
       "      <td>treatment</td>\n",
       "      <td>new_page</td>\n",
       "      <td>0</td>\n",
       "    </tr>\n",
       "    <tr>\n",
       "      <th>4</th>\n",
       "      <td>864975</td>\n",
       "      <td>2017-01-21</td>\n",
       "      <td>control</td>\n",
       "      <td>old_page</td>\n",
       "      <td>1</td>\n",
       "    </tr>\n",
       "  </tbody>\n",
       "</table>\n",
       "</div>"
      ],
      "text/plain": [
       "   user_id   timestamp      group landing_page  converted\n",
       "0   851104  2017-01-21    control     old_page          0\n",
       "1   804228  2017-01-12    control     old_page          0\n",
       "2   661590  2017-01-11  treatment     new_page          0\n",
       "3   853541  2017-01-08  treatment     new_page          0\n",
       "4   864975  2017-01-21    control     old_page          1"
      ]
     },
     "execution_count": 22,
     "metadata": {},
     "output_type": "execute_result"
    }
   ],
   "source": [
    "df_clean.head()"
   ]
  },
  {
   "cell_type": "code",
   "execution_count": 23,
   "metadata": {},
   "outputs": [
    {
     "name": "stdout",
     "output_type": "stream",
     "text": [
      "<class 'pandas.core.frame.DataFrame'>\n",
      "RangeIndex: 294478 entries, 0 to 294477\n",
      "Data columns (total 5 columns):\n",
      " #   Column        Non-Null Count   Dtype \n",
      "---  ------        --------------   ----- \n",
      " 0   user_id       294478 non-null  int64 \n",
      " 1   timestamp     294478 non-null  object\n",
      " 2   group         294478 non-null  object\n",
      " 3   landing_page  294478 non-null  object\n",
      " 4   converted     294478 non-null  int64 \n",
      "dtypes: int64(2), object(3)\n",
      "memory usage: 11.2+ MB\n"
     ]
    }
   ],
   "source": [
    "df_clean.info()"
   ]
  },
  {
   "cell_type": "code",
   "execution_count": 24,
   "metadata": {},
   "outputs": [
    {
     "data": {
      "text/html": [
       "<div>\n",
       "<style scoped>\n",
       "    .dataframe tbody tr th:only-of-type {\n",
       "        vertical-align: middle;\n",
       "    }\n",
       "\n",
       "    .dataframe tbody tr th {\n",
       "        vertical-align: top;\n",
       "    }\n",
       "\n",
       "    .dataframe thead th {\n",
       "        text-align: right;\n",
       "    }\n",
       "</style>\n",
       "<table border=\"1\" class=\"dataframe\">\n",
       "  <thead>\n",
       "    <tr style=\"text-align: right;\">\n",
       "      <th></th>\n",
       "      <th>count</th>\n",
       "      <th>mean</th>\n",
       "      <th>std</th>\n",
       "      <th>min</th>\n",
       "      <th>25%</th>\n",
       "      <th>50%</th>\n",
       "      <th>75%</th>\n",
       "      <th>max</th>\n",
       "    </tr>\n",
       "    <tr>\n",
       "      <th>group</th>\n",
       "      <th></th>\n",
       "      <th></th>\n",
       "      <th></th>\n",
       "      <th></th>\n",
       "      <th></th>\n",
       "      <th></th>\n",
       "      <th></th>\n",
       "      <th></th>\n",
       "    </tr>\n",
       "  </thead>\n",
       "  <tbody>\n",
       "    <tr>\n",
       "      <th>control</th>\n",
       "      <td>147202.0</td>\n",
       "      <td>0.120399</td>\n",
       "      <td>0.325429</td>\n",
       "      <td>0.0</td>\n",
       "      <td>0.0</td>\n",
       "      <td>0.0</td>\n",
       "      <td>0.0</td>\n",
       "      <td>1.0</td>\n",
       "    </tr>\n",
       "    <tr>\n",
       "      <th>treatment</th>\n",
       "      <td>147276.0</td>\n",
       "      <td>0.118920</td>\n",
       "      <td>0.323695</td>\n",
       "      <td>0.0</td>\n",
       "      <td>0.0</td>\n",
       "      <td>0.0</td>\n",
       "      <td>0.0</td>\n",
       "      <td>1.0</td>\n",
       "    </tr>\n",
       "  </tbody>\n",
       "</table>\n",
       "</div>"
      ],
      "text/plain": [
       "              count      mean       std  min  25%  50%  75%  max\n",
       "group                                                           \n",
       "control    147202.0  0.120399  0.325429  0.0  0.0  0.0  0.0  1.0\n",
       "treatment  147276.0  0.118920  0.323695  0.0  0.0  0.0  0.0  1.0"
      ]
     },
     "execution_count": 24,
     "metadata": {},
     "output_type": "execute_result"
    }
   ],
   "source": [
    "df_clean.groupby('group').converted.describe()"
   ]
  },
  {
   "cell_type": "code",
   "execution_count": 25,
   "metadata": {},
   "outputs": [],
   "source": [
    "users = df_clean.groupby(['timestamp','group']).count().reset_index()"
   ]
  },
  {
   "cell_type": "code",
   "execution_count": 26,
   "metadata": {},
   "outputs": [],
   "source": [
    "#cast as datetime\n",
    "users.timestamp = pd.to_datetime(users.timestamp)"
   ]
  },
  {
   "cell_type": "code",
   "execution_count": 27,
   "metadata": {},
   "outputs": [
    {
     "data": {
      "text/html": [
       "<div>\n",
       "<style scoped>\n",
       "    .dataframe tbody tr th:only-of-type {\n",
       "        vertical-align: middle;\n",
       "    }\n",
       "\n",
       "    .dataframe tbody tr th {\n",
       "        vertical-align: top;\n",
       "    }\n",
       "\n",
       "    .dataframe thead th {\n",
       "        text-align: right;\n",
       "    }\n",
       "</style>\n",
       "<table border=\"1\" class=\"dataframe\">\n",
       "  <thead>\n",
       "    <tr style=\"text-align: right;\">\n",
       "      <th></th>\n",
       "      <th>timestamp</th>\n",
       "      <th>group</th>\n",
       "      <th>user_id</th>\n",
       "      <th>landing_page</th>\n",
       "      <th>converted</th>\n",
       "    </tr>\n",
       "  </thead>\n",
       "  <tbody>\n",
       "    <tr>\n",
       "      <th>0</th>\n",
       "      <td>2017-01-02</td>\n",
       "      <td>control</td>\n",
       "      <td>2894</td>\n",
       "      <td>2894</td>\n",
       "      <td>2894</td>\n",
       "    </tr>\n",
       "    <tr>\n",
       "      <th>1</th>\n",
       "      <td>2017-01-02</td>\n",
       "      <td>treatment</td>\n",
       "      <td>2889</td>\n",
       "      <td>2889</td>\n",
       "      <td>2889</td>\n",
       "    </tr>\n",
       "    <tr>\n",
       "      <th>2</th>\n",
       "      <td>2017-01-03</td>\n",
       "      <td>control</td>\n",
       "      <td>6684</td>\n",
       "      <td>6684</td>\n",
       "      <td>6684</td>\n",
       "    </tr>\n",
       "    <tr>\n",
       "      <th>3</th>\n",
       "      <td>2017-01-03</td>\n",
       "      <td>treatment</td>\n",
       "      <td>6710</td>\n",
       "      <td>6710</td>\n",
       "      <td>6710</td>\n",
       "    </tr>\n",
       "    <tr>\n",
       "      <th>4</th>\n",
       "      <td>2017-01-04</td>\n",
       "      <td>control</td>\n",
       "      <td>6655</td>\n",
       "      <td>6655</td>\n",
       "      <td>6655</td>\n",
       "    </tr>\n",
       "  </tbody>\n",
       "</table>\n",
       "</div>"
      ],
      "text/plain": [
       "   timestamp      group  user_id  landing_page  converted\n",
       "0 2017-01-02    control     2894          2894       2894\n",
       "1 2017-01-02  treatment     2889          2889       2889\n",
       "2 2017-01-03    control     6684          6684       6684\n",
       "3 2017-01-03  treatment     6710          6710       6710\n",
       "4 2017-01-04    control     6655          6655       6655"
      ]
     },
     "execution_count": 27,
     "metadata": {},
     "output_type": "execute_result"
    }
   ],
   "source": [
    "users.head()"
   ]
  },
  {
   "cell_type": "code",
   "execution_count": 28,
   "metadata": {},
   "outputs": [
    {
     "name": "stdout",
     "output_type": "stream",
     "text": [
      "<class 'pandas.core.frame.DataFrame'>\n",
      "RangeIndex: 46 entries, 0 to 45\n",
      "Data columns (total 5 columns):\n",
      " #   Column        Non-Null Count  Dtype         \n",
      "---  ------        --------------  -----         \n",
      " 0   timestamp     46 non-null     datetime64[ns]\n",
      " 1   group         46 non-null     object        \n",
      " 2   user_id       46 non-null     int64         \n",
      " 3   landing_page  46 non-null     int64         \n",
      " 4   converted     46 non-null     int64         \n",
      "dtypes: datetime64[ns](1), int64(3), object(1)\n",
      "memory usage: 1.9+ KB\n"
     ]
    }
   ],
   "source": [
    "users.info()"
   ]
  },
  {
   "cell_type": "code",
   "execution_count": 29,
   "metadata": {},
   "outputs": [
    {
     "data": {
      "text/html": [
       "\n",
       "<div id=\"altair-viz-55c8cd59ade040bfb4a53d9d57d0974b\"></div>\n",
       "<script type=\"text/javascript\">\n",
       "  var VEGA_DEBUG = (typeof VEGA_DEBUG == \"undefined\") ? {} : VEGA_DEBUG;\n",
       "  (function(spec, embedOpt){\n",
       "    let outputDiv = document.currentScript.previousElementSibling;\n",
       "    if (outputDiv.id !== \"altair-viz-55c8cd59ade040bfb4a53d9d57d0974b\") {\n",
       "      outputDiv = document.getElementById(\"altair-viz-55c8cd59ade040bfb4a53d9d57d0974b\");\n",
       "    }\n",
       "    const paths = {\n",
       "      \"vega\": \"https://cdn.jsdelivr.net/npm//vega@5?noext\",\n",
       "      \"vega-lib\": \"https://cdn.jsdelivr.net/npm//vega-lib?noext\",\n",
       "      \"vega-lite\": \"https://cdn.jsdelivr.net/npm//vega-lite@4.17.0?noext\",\n",
       "      \"vega-embed\": \"https://cdn.jsdelivr.net/npm//vega-embed@6?noext\",\n",
       "    };\n",
       "\n",
       "    function maybeLoadScript(lib, version) {\n",
       "      var key = `${lib.replace(\"-\", \"\")}_version`;\n",
       "      return (VEGA_DEBUG[key] == version) ?\n",
       "        Promise.resolve(paths[lib]) :\n",
       "        new Promise(function(resolve, reject) {\n",
       "          var s = document.createElement('script');\n",
       "          document.getElementsByTagName(\"head\")[0].appendChild(s);\n",
       "          s.async = true;\n",
       "          s.onload = () => {\n",
       "            VEGA_DEBUG[key] = version;\n",
       "            return resolve(paths[lib]);\n",
       "          };\n",
       "          s.onerror = () => reject(`Error loading script: ${paths[lib]}`);\n",
       "          s.src = paths[lib];\n",
       "        });\n",
       "    }\n",
       "\n",
       "    function showError(err) {\n",
       "      outputDiv.innerHTML = `<div class=\"error\" style=\"color:red;\">${err}</div>`;\n",
       "      throw err;\n",
       "    }\n",
       "\n",
       "    function displayChart(vegaEmbed) {\n",
       "      vegaEmbed(outputDiv, spec, embedOpt)\n",
       "        .catch(err => showError(`Javascript Error: ${err.message}<br>This usually means there's a typo in your chart specification. See the javascript console for the full traceback.`));\n",
       "    }\n",
       "\n",
       "    if(typeof define === \"function\" && define.amd) {\n",
       "      requirejs.config({paths});\n",
       "      require([\"vega-embed\"], displayChart, err => showError(`Error loading script: ${err.message}`));\n",
       "    } else {\n",
       "      maybeLoadScript(\"vega\", \"5\")\n",
       "        .then(() => maybeLoadScript(\"vega-lite\", \"4.17.0\"))\n",
       "        .then(() => maybeLoadScript(\"vega-embed\", \"6\"))\n",
       "        .catch(showError)\n",
       "        .then(() => displayChart(vegaEmbed));\n",
       "    }\n",
       "  })({\"config\": {\"view\": {\"continuousWidth\": 400, \"continuousHeight\": 300}}, \"data\": {\"name\": \"data-1fc6727fe6b5c9ea0de659ef14651c33\"}, \"mark\": {\"type\": \"line\", \"size\": 1}, \"encoding\": {\"color\": {\"field\": \"group\", \"type\": \"nominal\"}, \"tooltip\": [{\"field\": \"group\", \"type\": \"nominal\"}], \"x\": {\"axis\": {\"title\": \"date\"}, \"field\": \"timestamp\", \"type\": \"temporal\"}, \"y\": {\"axis\": {\"title\": \"number users\"}, \"field\": \"user_id\", \"type\": \"quantitative\"}}, \"height\": 400, \"width\": 600, \"$schema\": \"https://vega.github.io/schema/vega-lite/v4.17.0.json\", \"datasets\": {\"data-1fc6727fe6b5c9ea0de659ef14651c33\": [{\"timestamp\": \"2017-01-02T00:00:00\", \"group\": \"control\", \"user_id\": 2894, \"landing_page\": 2894, \"converted\": 2894}, {\"timestamp\": \"2017-01-02T00:00:00\", \"group\": \"treatment\", \"user_id\": 2889, \"landing_page\": 2889, \"converted\": 2889}, {\"timestamp\": \"2017-01-03T00:00:00\", \"group\": \"control\", \"user_id\": 6684, \"landing_page\": 6684, \"converted\": 6684}, {\"timestamp\": \"2017-01-03T00:00:00\", \"group\": \"treatment\", \"user_id\": 6710, \"landing_page\": 6710, \"converted\": 6710}, {\"timestamp\": \"2017-01-04T00:00:00\", \"group\": \"control\", \"user_id\": 6655, \"landing_page\": 6655, \"converted\": 6655}, {\"timestamp\": \"2017-01-04T00:00:00\", \"group\": \"treatment\", \"user_id\": 6629, \"landing_page\": 6629, \"converted\": 6629}, {\"timestamp\": \"2017-01-05T00:00:00\", \"group\": \"control\", \"user_id\": 6538, \"landing_page\": 6538, \"converted\": 6538}, {\"timestamp\": \"2017-01-05T00:00:00\", \"group\": \"treatment\", \"user_id\": 6586, \"landing_page\": 6586, \"converted\": 6586}, {\"timestamp\": \"2017-01-06T00:00:00\", \"group\": \"control\", \"user_id\": 6684, \"landing_page\": 6684, \"converted\": 6684}, {\"timestamp\": \"2017-01-06T00:00:00\", \"group\": \"treatment\", \"user_id\": 6844, \"landing_page\": 6844, \"converted\": 6844}, {\"timestamp\": \"2017-01-07T00:00:00\", \"group\": \"control\", \"user_id\": 6678, \"landing_page\": 6678, \"converted\": 6678}, {\"timestamp\": \"2017-01-07T00:00:00\", \"group\": \"treatment\", \"user_id\": 6703, \"landing_page\": 6703, \"converted\": 6703}, {\"timestamp\": \"2017-01-08T00:00:00\", \"group\": \"control\", \"user_id\": 6769, \"landing_page\": 6769, \"converted\": 6769}, {\"timestamp\": \"2017-01-08T00:00:00\", \"group\": \"treatment\", \"user_id\": 6795, \"landing_page\": 6795, \"converted\": 6795}, {\"timestamp\": \"2017-01-09T00:00:00\", \"group\": \"control\", \"user_id\": 6725, \"landing_page\": 6725, \"converted\": 6725}, {\"timestamp\": \"2017-01-09T00:00:00\", \"group\": \"treatment\", \"user_id\": 6714, \"landing_page\": 6714, \"converted\": 6714}, {\"timestamp\": \"2017-01-10T00:00:00\", \"group\": \"control\", \"user_id\": 6745, \"landing_page\": 6745, \"converted\": 6745}, {\"timestamp\": \"2017-01-10T00:00:00\", \"group\": \"treatment\", \"user_id\": 6778, \"landing_page\": 6778, \"converted\": 6778}, {\"timestamp\": \"2017-01-11T00:00:00\", \"group\": \"control\", \"user_id\": 6787, \"landing_page\": 6787, \"converted\": 6787}, {\"timestamp\": \"2017-01-11T00:00:00\", \"group\": \"treatment\", \"user_id\": 6766, \"landing_page\": 6766, \"converted\": 6766}, {\"timestamp\": \"2017-01-12T00:00:00\", \"group\": \"control\", \"user_id\": 6615, \"landing_page\": 6615, \"converted\": 6615}, {\"timestamp\": \"2017-01-12T00:00:00\", \"group\": \"treatment\", \"user_id\": 6707, \"landing_page\": 6707, \"converted\": 6707}, {\"timestamp\": \"2017-01-13T00:00:00\", \"group\": \"control\", \"user_id\": 6649, \"landing_page\": 6649, \"converted\": 6649}, {\"timestamp\": \"2017-01-13T00:00:00\", \"group\": \"treatment\", \"user_id\": 6589, \"landing_page\": 6589, \"converted\": 6589}, {\"timestamp\": \"2017-01-14T00:00:00\", \"group\": \"control\", \"user_id\": 6635, \"landing_page\": 6635, \"converted\": 6635}, {\"timestamp\": \"2017-01-14T00:00:00\", \"group\": \"treatment\", \"user_id\": 6694, \"landing_page\": 6694, \"converted\": 6694}, {\"timestamp\": \"2017-01-15T00:00:00\", \"group\": \"control\", \"user_id\": 6809, \"landing_page\": 6809, \"converted\": 6809}, {\"timestamp\": \"2017-01-15T00:00:00\", \"group\": \"treatment\", \"user_id\": 6640, \"landing_page\": 6640, \"converted\": 6640}, {\"timestamp\": \"2017-01-16T00:00:00\", \"group\": \"control\", \"user_id\": 6683, \"landing_page\": 6683, \"converted\": 6683}, {\"timestamp\": \"2017-01-16T00:00:00\", \"group\": \"treatment\", \"user_id\": 6644, \"landing_page\": 6644, \"converted\": 6644}, {\"timestamp\": \"2017-01-17T00:00:00\", \"group\": \"control\", \"user_id\": 6691, \"landing_page\": 6691, \"converted\": 6691}, {\"timestamp\": \"2017-01-17T00:00:00\", \"group\": \"treatment\", \"user_id\": 6631, \"landing_page\": 6631, \"converted\": 6631}, {\"timestamp\": \"2017-01-18T00:00:00\", \"group\": \"control\", \"user_id\": 6578, \"landing_page\": 6578, \"converted\": 6578}, {\"timestamp\": \"2017-01-18T00:00:00\", \"group\": \"treatment\", \"user_id\": 6707, \"landing_page\": 6707, \"converted\": 6707}, {\"timestamp\": \"2017-01-19T00:00:00\", \"group\": \"control\", \"user_id\": 6665, \"landing_page\": 6665, \"converted\": 6665}, {\"timestamp\": \"2017-01-19T00:00:00\", \"group\": \"treatment\", \"user_id\": 6628, \"landing_page\": 6628, \"converted\": 6628}, {\"timestamp\": \"2017-01-20T00:00:00\", \"group\": \"control\", \"user_id\": 6626, \"landing_page\": 6626, \"converted\": 6626}, {\"timestamp\": \"2017-01-20T00:00:00\", \"group\": \"treatment\", \"user_id\": 6767, \"landing_page\": 6767, \"converted\": 6767}, {\"timestamp\": \"2017-01-21T00:00:00\", \"group\": \"control\", \"user_id\": 6823, \"landing_page\": 6823, \"converted\": 6823}, {\"timestamp\": \"2017-01-21T00:00:00\", \"group\": \"treatment\", \"user_id\": 6652, \"landing_page\": 6652, \"converted\": 6652}, {\"timestamp\": \"2017-01-22T00:00:00\", \"group\": \"control\", \"user_id\": 6675, \"landing_page\": 6675, \"converted\": 6675}, {\"timestamp\": \"2017-01-22T00:00:00\", \"group\": \"treatment\", \"user_id\": 6748, \"landing_page\": 6748, \"converted\": 6748}, {\"timestamp\": \"2017-01-23T00:00:00\", \"group\": \"control\", \"user_id\": 6783, \"landing_page\": 6783, \"converted\": 6783}, {\"timestamp\": \"2017-01-23T00:00:00\", \"group\": \"treatment\", \"user_id\": 6728, \"landing_page\": 6728, \"converted\": 6728}, {\"timestamp\": \"2017-01-24T00:00:00\", \"group\": \"control\", \"user_id\": 3811, \"landing_page\": 3811, \"converted\": 3811}, {\"timestamp\": \"2017-01-24T00:00:00\", \"group\": \"treatment\", \"user_id\": 3727, \"landing_page\": 3727, \"converted\": 3727}]}}, {\"mode\": \"vega-lite\"});\n",
       "</script>"
      ],
      "text/plain": [
       "alt.Chart(...)"
      ]
     },
     "execution_count": 29,
     "metadata": {},
     "output_type": "execute_result"
    }
   ],
   "source": [
    "alt.Chart(users).mark_line(size=1).encode(\n",
    "    alt.X('timestamp:T', axis=alt.Axis(title='date')),\n",
    "    alt.Y('user_id:Q', axis=alt.Axis(title='number users')),\n",
    "    tooltip=['group'],\n",
    "    color='group:N'\n",
    ").properties(\n",
    "    width=600,\n",
    "    height=400\n",
    ")"
   ]
  },
  {
   "cell_type": "markdown",
   "metadata": {},
   "source": [
    "# active users who bought"
   ]
  },
  {
   "cell_type": "code",
   "execution_count": 30,
   "metadata": {},
   "outputs": [],
   "source": [
    "df_active=df_clean.copy()"
   ]
  },
  {
   "cell_type": "code",
   "execution_count": 31,
   "metadata": {},
   "outputs": [],
   "source": [
    "#cast as datetime\n",
    "df_active.timestamp = pd.to_datetime(df_active.timestamp)\n",
    "df_active.timestamp = df_active.timestamp.dt.date\n",
    "df_active.timestamp = pd.to_datetime(df_active.timestamp)"
   ]
  },
  {
   "cell_type": "code",
   "execution_count": 32,
   "metadata": {},
   "outputs": [
    {
     "name": "stdout",
     "output_type": "stream",
     "text": [
      "<class 'pandas.core.frame.DataFrame'>\n",
      "RangeIndex: 294478 entries, 0 to 294477\n",
      "Data columns (total 5 columns):\n",
      " #   Column        Non-Null Count   Dtype         \n",
      "---  ------        --------------   -----         \n",
      " 0   user_id       294478 non-null  int64         \n",
      " 1   timestamp     294478 non-null  datetime64[ns]\n",
      " 2   group         294478 non-null  object        \n",
      " 3   landing_page  294478 non-null  object        \n",
      " 4   converted     294478 non-null  int64         \n",
      "dtypes: datetime64[ns](1), int64(2), object(2)\n",
      "memory usage: 11.2+ MB\n"
     ]
    }
   ],
   "source": [
    "df_active.info()"
   ]
  },
  {
   "cell_type": "code",
   "execution_count": 33,
   "metadata": {},
   "outputs": [
    {
     "data": {
      "text/html": [
       "<div>\n",
       "<style scoped>\n",
       "    .dataframe tbody tr th:only-of-type {\n",
       "        vertical-align: middle;\n",
       "    }\n",
       "\n",
       "    .dataframe tbody tr th {\n",
       "        vertical-align: top;\n",
       "    }\n",
       "\n",
       "    .dataframe thead th {\n",
       "        text-align: right;\n",
       "    }\n",
       "</style>\n",
       "<table border=\"1\" class=\"dataframe\">\n",
       "  <thead>\n",
       "    <tr style=\"text-align: right;\">\n",
       "      <th></th>\n",
       "      <th>user_id</th>\n",
       "      <th>timestamp</th>\n",
       "      <th>group</th>\n",
       "      <th>landing_page</th>\n",
       "      <th>converted</th>\n",
       "    </tr>\n",
       "  </thead>\n",
       "  <tbody>\n",
       "    <tr>\n",
       "      <th>0</th>\n",
       "      <td>851104</td>\n",
       "      <td>2017-01-21</td>\n",
       "      <td>control</td>\n",
       "      <td>old_page</td>\n",
       "      <td>0</td>\n",
       "    </tr>\n",
       "    <tr>\n",
       "      <th>1</th>\n",
       "      <td>804228</td>\n",
       "      <td>2017-01-12</td>\n",
       "      <td>control</td>\n",
       "      <td>old_page</td>\n",
       "      <td>0</td>\n",
       "    </tr>\n",
       "    <tr>\n",
       "      <th>2</th>\n",
       "      <td>661590</td>\n",
       "      <td>2017-01-11</td>\n",
       "      <td>treatment</td>\n",
       "      <td>new_page</td>\n",
       "      <td>0</td>\n",
       "    </tr>\n",
       "    <tr>\n",
       "      <th>3</th>\n",
       "      <td>853541</td>\n",
       "      <td>2017-01-08</td>\n",
       "      <td>treatment</td>\n",
       "      <td>new_page</td>\n",
       "      <td>0</td>\n",
       "    </tr>\n",
       "    <tr>\n",
       "      <th>4</th>\n",
       "      <td>864975</td>\n",
       "      <td>2017-01-21</td>\n",
       "      <td>control</td>\n",
       "      <td>old_page</td>\n",
       "      <td>1</td>\n",
       "    </tr>\n",
       "  </tbody>\n",
       "</table>\n",
       "</div>"
      ],
      "text/plain": [
       "   user_id  timestamp      group landing_page  converted\n",
       "0   851104 2017-01-21    control     old_page          0\n",
       "1   804228 2017-01-12    control     old_page          0\n",
       "2   661590 2017-01-11  treatment     new_page          0\n",
       "3   853541 2017-01-08  treatment     new_page          0\n",
       "4   864975 2017-01-21    control     old_page          1"
      ]
     },
     "execution_count": 33,
     "metadata": {},
     "output_type": "execute_result"
    }
   ],
   "source": [
    "df_active.head()"
   ]
  },
  {
   "cell_type": "code",
   "execution_count": 34,
   "metadata": {},
   "outputs": [
    {
     "data": {
      "text/html": [
       "<div>\n",
       "<style scoped>\n",
       "    .dataframe tbody tr th:only-of-type {\n",
       "        vertical-align: middle;\n",
       "    }\n",
       "\n",
       "    .dataframe tbody tr th {\n",
       "        vertical-align: top;\n",
       "    }\n",
       "\n",
       "    .dataframe thead th {\n",
       "        text-align: right;\n",
       "    }\n",
       "</style>\n",
       "<table border=\"1\" class=\"dataframe\">\n",
       "  <thead>\n",
       "    <tr style=\"text-align: right;\">\n",
       "      <th></th>\n",
       "      <th>timestamp</th>\n",
       "      <th>group</th>\n",
       "      <th>converted</th>\n",
       "      <th>user_id</th>\n",
       "      <th>landing_page</th>\n",
       "    </tr>\n",
       "  </thead>\n",
       "  <tbody>\n",
       "    <tr>\n",
       "      <th>0</th>\n",
       "      <td>2017-01-02</td>\n",
       "      <td>control</td>\n",
       "      <td>0</td>\n",
       "      <td>2532</td>\n",
       "      <td>2532</td>\n",
       "    </tr>\n",
       "    <tr>\n",
       "      <th>1</th>\n",
       "      <td>2017-01-02</td>\n",
       "      <td>control</td>\n",
       "      <td>1</td>\n",
       "      <td>362</td>\n",
       "      <td>362</td>\n",
       "    </tr>\n",
       "    <tr>\n",
       "      <th>2</th>\n",
       "      <td>2017-01-02</td>\n",
       "      <td>treatment</td>\n",
       "      <td>0</td>\n",
       "      <td>2541</td>\n",
       "      <td>2541</td>\n",
       "    </tr>\n",
       "    <tr>\n",
       "      <th>3</th>\n",
       "      <td>2017-01-02</td>\n",
       "      <td>treatment</td>\n",
       "      <td>1</td>\n",
       "      <td>348</td>\n",
       "      <td>348</td>\n",
       "    </tr>\n",
       "    <tr>\n",
       "      <th>4</th>\n",
       "      <td>2017-01-03</td>\n",
       "      <td>control</td>\n",
       "      <td>0</td>\n",
       "      <td>5924</td>\n",
       "      <td>5924</td>\n",
       "    </tr>\n",
       "  </tbody>\n",
       "</table>\n",
       "</div>"
      ],
      "text/plain": [
       "   timestamp      group  converted  user_id  landing_page\n",
       "0 2017-01-02    control          0     2532          2532\n",
       "1 2017-01-02    control          1      362           362\n",
       "2 2017-01-02  treatment          0     2541          2541\n",
       "3 2017-01-02  treatment          1      348           348\n",
       "4 2017-01-03    control          0     5924          5924"
      ]
     },
     "execution_count": 34,
     "metadata": {},
     "output_type": "execute_result"
    }
   ],
   "source": [
    "active = df_active.groupby(['timestamp','group','converted']).count().reset_index()\n",
    "active.head()"
   ]
  },
  {
   "cell_type": "code",
   "execution_count": 35,
   "metadata": {},
   "outputs": [
    {
     "data": {
      "text/html": [
       "<div>\n",
       "<style scoped>\n",
       "    .dataframe tbody tr th:only-of-type {\n",
       "        vertical-align: middle;\n",
       "    }\n",
       "\n",
       "    .dataframe tbody tr th {\n",
       "        vertical-align: top;\n",
       "    }\n",
       "\n",
       "    .dataframe thead th {\n",
       "        text-align: right;\n",
       "    }\n",
       "</style>\n",
       "<table border=\"1\" class=\"dataframe\">\n",
       "  <thead>\n",
       "    <tr style=\"text-align: right;\">\n",
       "      <th></th>\n",
       "      <th>timestamp</th>\n",
       "      <th>group</th>\n",
       "      <th>converted</th>\n",
       "      <th>user_id</th>\n",
       "      <th>landing_page</th>\n",
       "    </tr>\n",
       "  </thead>\n",
       "  <tbody>\n",
       "    <tr>\n",
       "      <th>1</th>\n",
       "      <td>2017-01-02</td>\n",
       "      <td>control</td>\n",
       "      <td>1</td>\n",
       "      <td>362</td>\n",
       "      <td>362</td>\n",
       "    </tr>\n",
       "    <tr>\n",
       "      <th>3</th>\n",
       "      <td>2017-01-02</td>\n",
       "      <td>treatment</td>\n",
       "      <td>1</td>\n",
       "      <td>348</td>\n",
       "      <td>348</td>\n",
       "    </tr>\n",
       "    <tr>\n",
       "      <th>5</th>\n",
       "      <td>2017-01-03</td>\n",
       "      <td>control</td>\n",
       "      <td>1</td>\n",
       "      <td>760</td>\n",
       "      <td>760</td>\n",
       "    </tr>\n",
       "    <tr>\n",
       "      <th>7</th>\n",
       "      <td>2017-01-03</td>\n",
       "      <td>treatment</td>\n",
       "      <td>1</td>\n",
       "      <td>762</td>\n",
       "      <td>762</td>\n",
       "    </tr>\n",
       "    <tr>\n",
       "      <th>9</th>\n",
       "      <td>2017-01-04</td>\n",
       "      <td>control</td>\n",
       "      <td>1</td>\n",
       "      <td>810</td>\n",
       "      <td>810</td>\n",
       "    </tr>\n",
       "  </tbody>\n",
       "</table>\n",
       "</div>"
      ],
      "text/plain": [
       "   timestamp      group  converted  user_id  landing_page\n",
       "1 2017-01-02    control          1      362           362\n",
       "3 2017-01-02  treatment          1      348           348\n",
       "5 2017-01-03    control          1      760           760\n",
       "7 2017-01-03  treatment          1      762           762\n",
       "9 2017-01-04    control          1      810           810"
      ]
     },
     "execution_count": 35,
     "metadata": {},
     "output_type": "execute_result"
    }
   ],
   "source": [
    "active_conv = active.loc[active.converted != 0]\n",
    "active_conv.head()"
   ]
  },
  {
   "cell_type": "code",
   "execution_count": 36,
   "metadata": {},
   "outputs": [
    {
     "data": {
      "text/html": [
       "\n",
       "<div id=\"altair-viz-fabdf1a483d64cc28bb06d62cf2caf9b\"></div>\n",
       "<script type=\"text/javascript\">\n",
       "  var VEGA_DEBUG = (typeof VEGA_DEBUG == \"undefined\") ? {} : VEGA_DEBUG;\n",
       "  (function(spec, embedOpt){\n",
       "    let outputDiv = document.currentScript.previousElementSibling;\n",
       "    if (outputDiv.id !== \"altair-viz-fabdf1a483d64cc28bb06d62cf2caf9b\") {\n",
       "      outputDiv = document.getElementById(\"altair-viz-fabdf1a483d64cc28bb06d62cf2caf9b\");\n",
       "    }\n",
       "    const paths = {\n",
       "      \"vega\": \"https://cdn.jsdelivr.net/npm//vega@5?noext\",\n",
       "      \"vega-lib\": \"https://cdn.jsdelivr.net/npm//vega-lib?noext\",\n",
       "      \"vega-lite\": \"https://cdn.jsdelivr.net/npm//vega-lite@4.17.0?noext\",\n",
       "      \"vega-embed\": \"https://cdn.jsdelivr.net/npm//vega-embed@6?noext\",\n",
       "    };\n",
       "\n",
       "    function maybeLoadScript(lib, version) {\n",
       "      var key = `${lib.replace(\"-\", \"\")}_version`;\n",
       "      return (VEGA_DEBUG[key] == version) ?\n",
       "        Promise.resolve(paths[lib]) :\n",
       "        new Promise(function(resolve, reject) {\n",
       "          var s = document.createElement('script');\n",
       "          document.getElementsByTagName(\"head\")[0].appendChild(s);\n",
       "          s.async = true;\n",
       "          s.onload = () => {\n",
       "            VEGA_DEBUG[key] = version;\n",
       "            return resolve(paths[lib]);\n",
       "          };\n",
       "          s.onerror = () => reject(`Error loading script: ${paths[lib]}`);\n",
       "          s.src = paths[lib];\n",
       "        });\n",
       "    }\n",
       "\n",
       "    function showError(err) {\n",
       "      outputDiv.innerHTML = `<div class=\"error\" style=\"color:red;\">${err}</div>`;\n",
       "      throw err;\n",
       "    }\n",
       "\n",
       "    function displayChart(vegaEmbed) {\n",
       "      vegaEmbed(outputDiv, spec, embedOpt)\n",
       "        .catch(err => showError(`Javascript Error: ${err.message}<br>This usually means there's a typo in your chart specification. See the javascript console for the full traceback.`));\n",
       "    }\n",
       "\n",
       "    if(typeof define === \"function\" && define.amd) {\n",
       "      requirejs.config({paths});\n",
       "      require([\"vega-embed\"], displayChart, err => showError(`Error loading script: ${err.message}`));\n",
       "    } else {\n",
       "      maybeLoadScript(\"vega\", \"5\")\n",
       "        .then(() => maybeLoadScript(\"vega-lite\", \"4.17.0\"))\n",
       "        .then(() => maybeLoadScript(\"vega-embed\", \"6\"))\n",
       "        .catch(showError)\n",
       "        .then(() => displayChart(vegaEmbed));\n",
       "    }\n",
       "  })({\"config\": {\"view\": {\"continuousWidth\": 400, \"continuousHeight\": 300}}, \"data\": {\"name\": \"data-87424006055825b437b5d161aa904511\"}, \"mark\": {\"type\": \"line\", \"size\": 1}, \"encoding\": {\"color\": {\"field\": \"group\", \"type\": \"nominal\"}, \"tooltip\": [{\"field\": \"group\", \"type\": \"nominal\"}], \"x\": {\"axis\": {\"title\": \"date\"}, \"field\": \"timestamp\", \"type\": \"temporal\"}, \"y\": {\"axis\": {\"title\": \"number users who converted\"}, \"field\": \"user_id\", \"type\": \"quantitative\"}}, \"height\": 400, \"width\": 600, \"$schema\": \"https://vega.github.io/schema/vega-lite/v4.17.0.json\", \"datasets\": {\"data-87424006055825b437b5d161aa904511\": [{\"timestamp\": \"2017-01-02T00:00:00\", \"group\": \"control\", \"converted\": 1, \"user_id\": 362, \"landing_page\": 362}, {\"timestamp\": \"2017-01-02T00:00:00\", \"group\": \"treatment\", \"converted\": 1, \"user_id\": 348, \"landing_page\": 348}, {\"timestamp\": \"2017-01-03T00:00:00\", \"group\": \"control\", \"converted\": 1, \"user_id\": 760, \"landing_page\": 760}, {\"timestamp\": \"2017-01-03T00:00:00\", \"group\": \"treatment\", \"converted\": 1, \"user_id\": 762, \"landing_page\": 762}, {\"timestamp\": \"2017-01-04T00:00:00\", \"group\": \"control\", \"converted\": 1, \"user_id\": 810, \"landing_page\": 810}, {\"timestamp\": \"2017-01-04T00:00:00\", \"group\": \"treatment\", \"converted\": 1, \"user_id\": 773, \"landing_page\": 773}, {\"timestamp\": \"2017-01-05T00:00:00\", \"group\": \"control\", \"converted\": 1, \"user_id\": 801, \"landing_page\": 801}, {\"timestamp\": \"2017-01-05T00:00:00\", \"group\": \"treatment\", \"converted\": 1, \"user_id\": 758, \"landing_page\": 758}, {\"timestamp\": \"2017-01-06T00:00:00\", \"group\": \"control\", \"converted\": 1, \"user_id\": 778, \"landing_page\": 778}, {\"timestamp\": \"2017-01-06T00:00:00\", \"group\": \"treatment\", \"converted\": 1, \"user_id\": 848, \"landing_page\": 848}, {\"timestamp\": \"2017-01-07T00:00:00\", \"group\": \"control\", \"converted\": 1, \"user_id\": 805, \"landing_page\": 805}, {\"timestamp\": \"2017-01-07T00:00:00\", \"group\": \"treatment\", \"converted\": 1, \"user_id\": 776, \"landing_page\": 776}, {\"timestamp\": \"2017-01-08T00:00:00\", \"group\": \"control\", \"converted\": 1, \"user_id\": 805, \"landing_page\": 805}, {\"timestamp\": \"2017-01-08T00:00:00\", \"group\": \"treatment\", \"converted\": 1, \"user_id\": 821, \"landing_page\": 821}, {\"timestamp\": \"2017-01-09T00:00:00\", \"group\": \"control\", \"converted\": 1, \"user_id\": 806, \"landing_page\": 806}, {\"timestamp\": \"2017-01-09T00:00:00\", \"group\": \"treatment\", \"converted\": 1, \"user_id\": 794, \"landing_page\": 794}, {\"timestamp\": \"2017-01-10T00:00:00\", \"group\": \"control\", \"converted\": 1, \"user_id\": 763, \"landing_page\": 763}, {\"timestamp\": \"2017-01-10T00:00:00\", \"group\": \"treatment\", \"converted\": 1, \"user_id\": 858, \"landing_page\": 858}, {\"timestamp\": \"2017-01-11T00:00:00\", \"group\": \"control\", \"converted\": 1, \"user_id\": 808, \"landing_page\": 808}, {\"timestamp\": \"2017-01-11T00:00:00\", \"group\": \"treatment\", \"converted\": 1, \"user_id\": 785, \"landing_page\": 785}, {\"timestamp\": \"2017-01-12T00:00:00\", \"group\": \"control\", \"converted\": 1, \"user_id\": 809, \"landing_page\": 809}, {\"timestamp\": \"2017-01-12T00:00:00\", \"group\": \"treatment\", \"converted\": 1, \"user_id\": 820, \"landing_page\": 820}, {\"timestamp\": \"2017-01-13T00:00:00\", \"group\": \"control\", \"converted\": 1, \"user_id\": 779, \"landing_page\": 779}, {\"timestamp\": \"2017-01-13T00:00:00\", \"group\": \"treatment\", \"converted\": 1, \"user_id\": 734, \"landing_page\": 734}, {\"timestamp\": \"2017-01-14T00:00:00\", \"group\": \"control\", \"converted\": 1, \"user_id\": 842, \"landing_page\": 842}, {\"timestamp\": \"2017-01-14T00:00:00\", \"group\": \"treatment\", \"converted\": 1, \"user_id\": 799, \"landing_page\": 799}, {\"timestamp\": \"2017-01-15T00:00:00\", \"group\": \"control\", \"converted\": 1, \"user_id\": 823, \"landing_page\": 823}, {\"timestamp\": \"2017-01-15T00:00:00\", \"group\": \"treatment\", \"converted\": 1, \"user_id\": 757, \"landing_page\": 757}, {\"timestamp\": \"2017-01-16T00:00:00\", \"group\": \"control\", \"converted\": 1, \"user_id\": 816, \"landing_page\": 816}, {\"timestamp\": \"2017-01-16T00:00:00\", \"group\": \"treatment\", \"converted\": 1, \"user_id\": 795, \"landing_page\": 795}, {\"timestamp\": \"2017-01-17T00:00:00\", \"group\": \"control\", \"converted\": 1, \"user_id\": 818, \"landing_page\": 818}, {\"timestamp\": \"2017-01-17T00:00:00\", \"group\": \"treatment\", \"converted\": 1, \"user_id\": 844, \"landing_page\": 844}, {\"timestamp\": \"2017-01-18T00:00:00\", \"group\": \"control\", \"converted\": 1, \"user_id\": 820, \"landing_page\": 820}, {\"timestamp\": \"2017-01-18T00:00:00\", \"group\": \"treatment\", \"converted\": 1, \"user_id\": 835, \"landing_page\": 835}, {\"timestamp\": \"2017-01-19T00:00:00\", \"group\": \"control\", \"converted\": 1, \"user_id\": 795, \"landing_page\": 795}, {\"timestamp\": \"2017-01-19T00:00:00\", \"group\": \"treatment\", \"converted\": 1, \"user_id\": 780, \"landing_page\": 780}, {\"timestamp\": \"2017-01-20T00:00:00\", \"group\": \"control\", \"converted\": 1, \"user_id\": 763, \"landing_page\": 763}, {\"timestamp\": \"2017-01-20T00:00:00\", \"group\": \"treatment\", \"converted\": 1, \"user_id\": 797, \"landing_page\": 797}, {\"timestamp\": \"2017-01-21T00:00:00\", \"group\": \"control\", \"converted\": 1, \"user_id\": 859, \"landing_page\": 859}, {\"timestamp\": \"2017-01-21T00:00:00\", \"group\": \"treatment\", \"converted\": 1, \"user_id\": 772, \"landing_page\": 772}, {\"timestamp\": \"2017-01-22T00:00:00\", \"group\": \"control\", \"converted\": 1, \"user_id\": 796, \"landing_page\": 796}, {\"timestamp\": \"2017-01-22T00:00:00\", \"group\": \"treatment\", \"converted\": 1, \"user_id\": 795, \"landing_page\": 795}, {\"timestamp\": \"2017-01-23T00:00:00\", \"group\": \"control\", \"converted\": 1, \"user_id\": 854, \"landing_page\": 854}, {\"timestamp\": \"2017-01-23T00:00:00\", \"group\": \"treatment\", \"converted\": 1, \"user_id\": 814, \"landing_page\": 814}, {\"timestamp\": \"2017-01-24T00:00:00\", \"group\": \"control\", \"converted\": 1, \"user_id\": 451, \"landing_page\": 451}, {\"timestamp\": \"2017-01-24T00:00:00\", \"group\": \"treatment\", \"converted\": 1, \"user_id\": 449, \"landing_page\": 449}]}}, {\"mode\": \"vega-lite\"});\n",
       "</script>"
      ],
      "text/plain": [
       "alt.Chart(...)"
      ]
     },
     "execution_count": 36,
     "metadata": {},
     "output_type": "execute_result"
    }
   ],
   "source": [
    "alt.Chart(active_conv).mark_line(size=1).encode(\n",
    "    alt.X('timestamp:T', axis=alt.Axis(title='date')),\n",
    "    alt.Y('user_id:Q', axis=alt.Axis(title='number users who converted')),\n",
    "    tooltip=['group'],\n",
    "    color='group:N'\n",
    ").properties(\n",
    "    width=600,\n",
    "    height=400\n",
    ")"
   ]
  },
  {
   "cell_type": "code",
   "execution_count": 37,
   "metadata": {},
   "outputs": [
    {
     "data": {
      "text/html": [
       "<div>\n",
       "<style scoped>\n",
       "    .dataframe tbody tr th:only-of-type {\n",
       "        vertical-align: middle;\n",
       "    }\n",
       "\n",
       "    .dataframe tbody tr th {\n",
       "        vertical-align: top;\n",
       "    }\n",
       "\n",
       "    .dataframe thead th {\n",
       "        text-align: right;\n",
       "    }\n",
       "</style>\n",
       "<table border=\"1\" class=\"dataframe\">\n",
       "  <thead>\n",
       "    <tr style=\"text-align: right;\">\n",
       "      <th>group</th>\n",
       "      <th>control</th>\n",
       "      <th>treatment</th>\n",
       "    </tr>\n",
       "  </thead>\n",
       "  <tbody>\n",
       "    <tr>\n",
       "      <th>count</th>\n",
       "      <td>23.000000</td>\n",
       "      <td>23.000000</td>\n",
       "    </tr>\n",
       "    <tr>\n",
       "      <th>mean</th>\n",
       "      <td>770.565217</td>\n",
       "      <td>761.478261</td>\n",
       "    </tr>\n",
       "    <tr>\n",
       "      <th>std</th>\n",
       "      <td>118.518056</td>\n",
       "      <td>119.746653</td>\n",
       "    </tr>\n",
       "    <tr>\n",
       "      <th>min</th>\n",
       "      <td>362.000000</td>\n",
       "      <td>348.000000</td>\n",
       "    </tr>\n",
       "    <tr>\n",
       "      <th>25%</th>\n",
       "      <td>778.500000</td>\n",
       "      <td>767.000000</td>\n",
       "    </tr>\n",
       "    <tr>\n",
       "      <th>50%</th>\n",
       "      <td>805.000000</td>\n",
       "      <td>794.000000</td>\n",
       "    </tr>\n",
       "    <tr>\n",
       "      <th>75%</th>\n",
       "      <td>817.000000</td>\n",
       "      <td>817.000000</td>\n",
       "    </tr>\n",
       "    <tr>\n",
       "      <th>max</th>\n",
       "      <td>859.000000</td>\n",
       "      <td>858.000000</td>\n",
       "    </tr>\n",
       "  </tbody>\n",
       "</table>\n",
       "</div>"
      ],
      "text/plain": [
       "group     control   treatment\n",
       "count   23.000000   23.000000\n",
       "mean   770.565217  761.478261\n",
       "std    118.518056  119.746653\n",
       "min    362.000000  348.000000\n",
       "25%    778.500000  767.000000\n",
       "50%    805.000000  794.000000\n",
       "75%    817.000000  817.000000\n",
       "max    859.000000  858.000000"
      ]
     },
     "execution_count": 37,
     "metadata": {},
     "output_type": "execute_result"
    }
   ],
   "source": [
    "active_conv.groupby('group').user_id.describe().transpose()"
   ]
  },
  {
   "cell_type": "markdown",
   "metadata": {},
   "source": [
    "# Grab a sample"
   ]
  },
  {
   "cell_type": "code",
   "execution_count": 38,
   "metadata": {},
   "outputs": [],
   "source": [
    "def binomial_sample_size(metric, mde, alpha, beta):\n",
    "    #std normal distribution to determine z-values\n",
    "    snd = stats.norm(0,1)\n",
    "\n",
    "    Z_beta = snd.ppf(1-beta)\n",
    "    Z_alpha = snd.ppf(1-alpha/2)\n",
    "\n",
    "    #avg of probabilities from both groups\n",
    "    p = (metric + metric+mde)/2\n",
    "\n",
    "    N=(2 * p *(1-p)*(Z_beta + Z_alpha)**2 / mde**2)\n",
    "\n",
    "    return N"
   ]
  },
  {
   "cell_type": "code",
   "execution_count": 39,
   "metadata": {},
   "outputs": [
    {
     "name": "stdout",
     "output_type": "stream",
     "text": [
      "binom sample size is 4726.000000\n"
     ]
    }
   ],
   "source": [
    "metric=0.13\n",
    "mde=0.02\n",
    "alpha=0.05\n",
    "beta= 0.2\n",
    "\n",
    "sample_size= binomial_sample_size(metric, mde, alpha, beta)\n",
    "\n",
    "sample_size = ceil(sample_size)\n",
    "\n",
    "print('binom sample size is %f' % sample_size)"
   ]
  },
  {
   "cell_type": "code",
   "execution_count": 40,
   "metadata": {},
   "outputs": [],
   "source": [
    "control_sample = df_clean.loc[df_clean.group=='control'].sample(n=sample_size, random_state=22)\n",
    "treatment_sample = df_clean.loc[df_clean.group=='treatment'].sample(n=sample_size, random_state=22)\n"
   ]
  },
  {
   "cell_type": "code",
   "execution_count": 41,
   "metadata": {},
   "outputs": [
    {
     "data": {
      "text/html": [
       "<div>\n",
       "<style scoped>\n",
       "    .dataframe tbody tr th:only-of-type {\n",
       "        vertical-align: middle;\n",
       "    }\n",
       "\n",
       "    .dataframe tbody tr th {\n",
       "        vertical-align: top;\n",
       "    }\n",
       "\n",
       "    .dataframe thead th {\n",
       "        text-align: right;\n",
       "    }\n",
       "</style>\n",
       "<table border=\"1\" class=\"dataframe\">\n",
       "  <thead>\n",
       "    <tr style=\"text-align: right;\">\n",
       "      <th></th>\n",
       "      <th>user_id</th>\n",
       "      <th>timestamp</th>\n",
       "      <th>group</th>\n",
       "      <th>landing_page</th>\n",
       "      <th>converted</th>\n",
       "    </tr>\n",
       "  </thead>\n",
       "  <tbody>\n",
       "    <tr>\n",
       "      <th>254532</th>\n",
       "      <td>644179</td>\n",
       "      <td>2017-01-16</td>\n",
       "      <td>control</td>\n",
       "      <td>old_page</td>\n",
       "      <td>0</td>\n",
       "    </tr>\n",
       "    <tr>\n",
       "      <th>196706</th>\n",
       "      <td>729672</td>\n",
       "      <td>2017-01-20</td>\n",
       "      <td>control</td>\n",
       "      <td>old_page</td>\n",
       "      <td>0</td>\n",
       "    </tr>\n",
       "    <tr>\n",
       "      <th>272726</th>\n",
       "      <td>866186</td>\n",
       "      <td>2017-01-09</td>\n",
       "      <td>control</td>\n",
       "      <td>old_page</td>\n",
       "      <td>0</td>\n",
       "    </tr>\n",
       "    <tr>\n",
       "      <th>118044</th>\n",
       "      <td>884303</td>\n",
       "      <td>2017-01-18</td>\n",
       "      <td>control</td>\n",
       "      <td>old_page</td>\n",
       "      <td>0</td>\n",
       "    </tr>\n",
       "    <tr>\n",
       "      <th>205159</th>\n",
       "      <td>882576</td>\n",
       "      <td>2017-01-15</td>\n",
       "      <td>control</td>\n",
       "      <td>old_page</td>\n",
       "      <td>0</td>\n",
       "    </tr>\n",
       "  </tbody>\n",
       "</table>\n",
       "</div>"
      ],
      "text/plain": [
       "        user_id   timestamp    group landing_page  converted\n",
       "254532   644179  2017-01-16  control     old_page          0\n",
       "196706   729672  2017-01-20  control     old_page          0\n",
       "272726   866186  2017-01-09  control     old_page          0\n",
       "118044   884303  2017-01-18  control     old_page          0\n",
       "205159   882576  2017-01-15  control     old_page          0"
      ]
     },
     "execution_count": 41,
     "metadata": {},
     "output_type": "execute_result"
    }
   ],
   "source": [
    "control_sample.head()"
   ]
  },
  {
   "cell_type": "markdown",
   "metadata": {},
   "source": [
    "# Compare"
   ]
  },
  {
   "cell_type": "code",
   "execution_count": 42,
   "metadata": {},
   "outputs": [
    {
     "name": "stdout",
     "output_type": "stream",
     "text": [
      "p-val is: 0.89871\n"
     ]
    }
   ],
   "source": [
    "res = ttest_ind(control_sample.converted.to_numpy(),\n",
    "                treatment_sample.converted.to_numpy()\n",
    "               ).pvalue\n",
    "\n",
    "print('p-val is: %.5f' % res)"
   ]
  },
  {
   "cell_type": "markdown",
   "metadata": {},
   "source": [
    "# looking at the whole pop and users who bought per day"
   ]
  },
  {
   "cell_type": "code",
   "execution_count": 43,
   "metadata": {},
   "outputs": [
    {
     "data": {
      "text/html": [
       "<div>\n",
       "<style scoped>\n",
       "    .dataframe tbody tr th:only-of-type {\n",
       "        vertical-align: middle;\n",
       "    }\n",
       "\n",
       "    .dataframe tbody tr th {\n",
       "        vertical-align: top;\n",
       "    }\n",
       "\n",
       "    .dataframe thead th {\n",
       "        text-align: right;\n",
       "    }\n",
       "</style>\n",
       "<table border=\"1\" class=\"dataframe\">\n",
       "  <thead>\n",
       "    <tr style=\"text-align: right;\">\n",
       "      <th></th>\n",
       "      <th>timestamp</th>\n",
       "      <th>group</th>\n",
       "      <th>converted</th>\n",
       "      <th>user_id</th>\n",
       "      <th>landing_page</th>\n",
       "    </tr>\n",
       "  </thead>\n",
       "  <tbody>\n",
       "    <tr>\n",
       "      <th>1</th>\n",
       "      <td>2017-01-02</td>\n",
       "      <td>control</td>\n",
       "      <td>1</td>\n",
       "      <td>362</td>\n",
       "      <td>362</td>\n",
       "    </tr>\n",
       "    <tr>\n",
       "      <th>3</th>\n",
       "      <td>2017-01-02</td>\n",
       "      <td>treatment</td>\n",
       "      <td>1</td>\n",
       "      <td>348</td>\n",
       "      <td>348</td>\n",
       "    </tr>\n",
       "    <tr>\n",
       "      <th>5</th>\n",
       "      <td>2017-01-03</td>\n",
       "      <td>control</td>\n",
       "      <td>1</td>\n",
       "      <td>760</td>\n",
       "      <td>760</td>\n",
       "    </tr>\n",
       "    <tr>\n",
       "      <th>7</th>\n",
       "      <td>2017-01-03</td>\n",
       "      <td>treatment</td>\n",
       "      <td>1</td>\n",
       "      <td>762</td>\n",
       "      <td>762</td>\n",
       "    </tr>\n",
       "    <tr>\n",
       "      <th>9</th>\n",
       "      <td>2017-01-04</td>\n",
       "      <td>control</td>\n",
       "      <td>1</td>\n",
       "      <td>810</td>\n",
       "      <td>810</td>\n",
       "    </tr>\n",
       "  </tbody>\n",
       "</table>\n",
       "</div>"
      ],
      "text/plain": [
       "   timestamp      group  converted  user_id  landing_page\n",
       "1 2017-01-02    control          1      362           362\n",
       "3 2017-01-02  treatment          1      348           348\n",
       "5 2017-01-03    control          1      760           760\n",
       "7 2017-01-03  treatment          1      762           762\n",
       "9 2017-01-04    control          1      810           810"
      ]
     },
     "execution_count": 43,
     "metadata": {},
     "output_type": "execute_result"
    }
   ],
   "source": [
    "active_conv.head()"
   ]
  },
  {
   "cell_type": "code",
   "execution_count": 44,
   "metadata": {},
   "outputs": [
    {
     "name": "stdout",
     "output_type": "stream",
     "text": [
      "p-val is: 0.79710\n"
     ]
    }
   ],
   "source": [
    "res = ttest_ind(active_conv.loc[active_conv.group=='control']['user_id'].to_numpy(),\n",
    "                active_conv.loc[active_conv.group=='treatment']['user_id'].to_numpy()\n",
    "               ).pvalue\n",
    "\n",
    "print('p-val is: %.5f' % res)"
   ]
  },
  {
   "cell_type": "markdown",
   "metadata": {},
   "source": [
    "# Sample size Stuff"
   ]
  },
  {
   "cell_type": "code",
   "execution_count": 45,
   "metadata": {},
   "outputs": [],
   "source": [
    "def binomial_sample_size(metric, mde, alpha, beta):\n",
    "    #std normal distribution to determine z-values\n",
    "    snd = stats.norm(0,1)\n",
    "\n",
    "    Z_beta = snd.ppf(1-beta)\n",
    "    Z_alpha = snd.ppf(1-alpha/2)\n",
    "\n",
    "    #avg of probabilities from both groups\n",
    "    p = (metric + metric+mde)/2\n",
    "\n",
    "    N=(2 * p *(1-p)*(Z_beta + Z_alpha)**2 / mde**2)\n",
    "\n",
    "    return N"
   ]
  },
  {
   "cell_type": "code",
   "execution_count": 46,
   "metadata": {},
   "outputs": [],
   "source": [
    "def continous_sample_size(metric, mde, sd, alpha, beta):\n",
    "    #std normal distribution to determine z-values\n",
    "    snd = stats.norm(0,1)\n",
    "\n",
    "    Z_beta = snd.ppf(1-beta)\n",
    "    Z_alpha = snd.ppf(1-alpha/2)\n",
    "    print(Z_beta, '\\n', Z_alpha)\n",
    "    \n",
    "    N=(2 * sd**2 * (Z_beta + Z_alpha)**2 / mde**2)\n",
    "\n",
    "    return N"
   ]
  },
  {
   "cell_type": "code",
   "execution_count": 47,
   "metadata": {},
   "outputs": [
    {
     "name": "stdout",
     "output_type": "stream",
     "text": [
      "binom sample size is 4725.025600\n"
     ]
    }
   ],
   "source": [
    "metric=0.13\n",
    "mde=0.02\n",
    "alpha=0.05\n",
    "beta= 0.2\n",
    "\n",
    "sample_size= binomial_sample_size(metric, mde, alpha, beta)\n",
    "\n",
    "print('binom sample size is %f' % sample_size)"
   ]
  },
  {
   "cell_type": "code",
   "execution_count": 48,
   "metadata": {},
   "outputs": [
    {
     "name": "stdout",
     "output_type": "stream",
     "text": [
      "0.8416212335729143 \n",
      " 1.959963984540054\n",
      "cont sample size is 12.999315\n"
     ]
    }
   ],
   "source": [
    "metric=30673\n",
    "mde=100\n",
    "sd=91\n",
    "alpha=0.05\n",
    "beta= 0.2\n",
    "\n",
    "sample_size= continous_sample_size(metric, mde,sd, alpha, beta)\n",
    "\n",
    "print('cont sample size is %f' % sample_size)"
   ]
  },
  {
   "cell_type": "markdown",
   "metadata": {},
   "source": []
  },
  {
   "cell_type": "markdown",
   "metadata": {},
   "source": [
    "# exam test"
   ]
  },
  {
   "cell_type": "code",
   "execution_count": null,
   "metadata": {},
   "outputs": [],
   "source": []
  },
  {
   "cell_type": "code",
   "execution_count": null,
   "metadata": {},
   "outputs": [],
   "source": []
  },
  {
   "cell_type": "code",
   "execution_count": null,
   "metadata": {},
   "outputs": [],
   "source": []
  },
  {
   "cell_type": "code",
   "execution_count": null,
   "metadata": {},
   "outputs": [],
   "source": []
  }
 ],
 "metadata": {
  "kernelspec": {
   "display_name": "Python 3.8.10 ('py38')",
   "language": "python",
   "name": "python3"
  },
  "language_info": {
   "codemirror_mode": {
    "name": "ipython",
    "version": 3
   },
   "file_extension": ".py",
   "mimetype": "text/x-python",
   "name": "python",
   "nbconvert_exporter": "python",
   "pygments_lexer": "ipython3",
   "version": "3.8.10"
  },
  "orig_nbformat": 4,
  "vscode": {
   "interpreter": {
    "hash": "617f352ff55cb9b52b9c249b51f2467922628fb554bc8cc15726fd1e8b6a78c6"
   }
  }
 },
 "nbformat": 4,
 "nbformat_minor": 2
}
